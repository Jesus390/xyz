{
 "cells": [
  {
   "cell_type": "markdown",
   "id": "4bbd5986",
   "metadata": {
    "vscode": {
     "languageId": "plaintext"
    }
   },
   "source": [
    "# "
   ]
  },
  {
   "cell_type": "markdown",
   "id": "1b5c69d7",
   "metadata": {},
   "source": [
    "# 1.1. Linear Models"
   ]
  },
  {
   "cell_type": "code",
   "execution_count": 20,
   "id": "70bc9417",
   "metadata": {},
   "outputs": [
    {
     "data": {
      "text/plain": [
       "(np.float64(3.706122448979593), np.float64(0.48979591836734676))"
      ]
     },
     "execution_count": 20,
     "metadata": {},
     "output_type": "execute_result"
    }
   ],
   "source": [
    "from sklearn.linear_model import LinearRegression\n",
    "\n",
    "import numpy as np\n",
    "\n",
    "# Genera 10 enteros aleatorios entre 0 (inclusive) y 10 (exclusive)\n",
    "x = np.random.randint(0, 10, 10)\n",
    "y = np.random.randint(0, 10, 10)\n",
    "\n",
    "model = LinearRegression()\n",
    "model.fit(x.reshape(-1, 1), y) # x debe ser un array 2D\n",
    "\n",
    "intercepto = model.intercept_\n",
    "coeficiente = model.coef_[0]\n",
    "\n",
    "intercepto, coeficiente"
   ]
  },
  {
   "cell_type": "markdown",
   "id": "d928e668",
   "metadata": {},
   "source": [
    "##### Extra: Función Lineal\n",
    "- Expresión algebraíca: f(x)=mx+b -> 'm' es la pendiente(o razón de cambio) y 'b' es el punto del eje y(ordenada del origen).\n",
    "- Pendiente(m): indica la inclinación de la recta. Si 'm' es positiva, la recta es creciente; si es negativa, es decreciente; y si es cero, es una función constante(una recta horizontal).\n",
    "- Intersección con el eje y(b): es el punto donde la recta corta al eje vertical (eje y). También se le conoce ordenada al origen.\n",
    "- Dominio y Rango: son generalmente todos los números reales (conjunto de números reales), a menos que se especifique lo contrario en el contexto del problema."
   ]
  },
  {
   "cell_type": "code",
   "execution_count": null,
   "id": "4b352987",
   "metadata": {},
   "outputs": [
    {
     "ename": "TypeError",
     "evalue": "funcion_lineal() missing 1 required positional argument: 'x'",
     "output_type": "error",
     "traceback": [
      "\u001b[31m---------------------------------------------------------------------------\u001b[39m",
      "\u001b[31mTypeError\u001b[39m                                 Traceback (most recent call last)",
      "\u001b[36mCell\u001b[39m\u001b[36m \u001b[39m\u001b[32mIn[30]\u001b[39m\u001b[32m, line 37\u001b[39m\n\u001b[32m     30\u001b[39m     m = expresiones_matematicas[\u001b[32m0\u001b[39m].split(\u001b[33m'\u001b[39m\u001b[33mx\u001b[39m\u001b[33m'\u001b[39m)[\u001b[32m0\u001b[39m]\n\u001b[32m     34\u001b[39m     \u001b[38;5;28;01mreturn\u001b[39;00m expresiones_matematicas, token_, m\n\u001b[32m---> \u001b[39m\u001b[32m37\u001b[39m \u001b[43mfuncion_lineal\u001b[49m\u001b[43m(\u001b[49m\u001b[33;43m'\u001b[39;49m\u001b[33;43m2x + 3\u001b[39;49m\u001b[33;43m'\u001b[39;49m\u001b[43m)\u001b[49m\n",
      "\u001b[31mTypeError\u001b[39m: funcion_lineal() missing 1 required positional argument: 'x'"
     ]
    }
   ],
   "source": [
    "# Ejemplos:\n",
    "# >>> f(x) = 2x + 3\n",
    "# >>> f(x) = -x + 5\n",
    "\n",
    "tokens_matematicos = ['+', '-', '*', '/']\n",
    "def funcion_lineal(ecuacion, x):\n",
    "    \"\"\"\n",
    "    Expresión algebraica\n",
    "    --------------------\n",
    "    f(x) = mx + b\n",
    "    m: pendiente(razón de cambio)\n",
    "    b: punto de corte con el eje y(ordenada al origen)\n",
    "    \"\"\"\n",
    "\n",
    "    # obtiene la expresión matemática de la ecuación\n",
    "    token_ = ''\n",
    "    for token in tokens_matematicos:\n",
    "        if token in ecuacion:\n",
    "            token_ = token\n",
    "            break\n",
    "        \n",
    "    # separa la ecuación matemática en expresiones simples\n",
    "    expresiones_matematicas = ecuacion.split(token_)\n",
    "\n",
    "    # elimina espacios extras en las expresiones\n",
    "    for i, expresion in enumerate(expresiones_matematicas):\n",
    "        expresiones_matematicas[i] = expresiones_matematicas[i].strip()\n",
    "\n",
    "    # separa la pendiente o razón de cambio\n",
    "    m = expresiones_matematicas[0].split('x')[0]\n",
    "\n",
    "\n",
    "\n",
    "    return expresiones_matematicas, token_, m\n",
    "\n",
    "\n",
    "funcion_lineal('2x + 3', 3)"
   ]
  }
 ],
 "metadata": {
  "kernelspec": {
   "display_name": "venv (3.12.6)",
   "language": "python",
   "name": "python3"
  },
  "language_info": {
   "codemirror_mode": {
    "name": "ipython",
    "version": 3
   },
   "file_extension": ".py",
   "mimetype": "text/x-python",
   "name": "python",
   "nbconvert_exporter": "python",
   "pygments_lexer": "ipython3",
   "version": "3.12.6"
  }
 },
 "nbformat": 4,
 "nbformat_minor": 5
}
