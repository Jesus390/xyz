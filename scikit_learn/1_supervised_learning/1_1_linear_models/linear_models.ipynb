{
 "cells": [
  {
   "cell_type": "markdown",
   "id": "4bbd5986",
   "metadata": {
    "vscode": {
     "languageId": "plaintext"
    }
   },
   "source": [
    "# "
   ]
  },
  {
   "cell_type": "markdown",
   "id": "1b5c69d7",
   "metadata": {},
   "source": [
    "# 1.1. Linear Models"
   ]
  },
  {
   "cell_type": "code",
   "execution_count": null,
   "id": "fa573414",
   "metadata": {},
   "outputs": [],
   "source": [
    "from sklearn.linear_model import LinearRegression\n",
    "\n",
    "import numpy as np\n",
    "\n",
    "# Genera 10 enteros aleatorios entre 0 (inclusive) y 10 (exclusive)\n",
    "x = np.random.randint(0, 10, 10)\n",
    "y = np.random.randint(0, 10, 10)\n",
    "\n",
    "model = LinearRegression()\n",
    "model.fit(x.reshape(-1, 1), y) # x debe ser un array 2D\n",
    "\n",
    "intercepto = model.intercept_\n",
    "coeficiente = model.coef_[0]\n",
    "\n",
    "intercepto, coeficiente"
   ]
  }
 ],
 "metadata": {
  "kernelspec": {
   "display_name": "venv (3.12.6)",
   "language": "python",
   "name": "python3"
  },
  "language_info": {
   "name": "python",
   "version": "3.12.6"
  }
 },
 "nbformat": 4,
 "nbformat_minor": 5
}
